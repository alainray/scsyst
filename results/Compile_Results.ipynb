{
 "cells": [
  {
   "cell_type": "code",
   "execution_count": 15,
   "id": "9fdcc44d-6cf2-4189-a295-2ef5a22d62f8",
   "metadata": {},
   "outputs": [
    {
     "data": {
      "application/vnd.jupyter.widget-view+json": {
       "model_id": "ef41415ce650469c95228afc4ba6ac3f",
       "version_major": 2,
       "version_minor": 0
      },
      "text/plain": [
       "  0%|          | 0/10 [00:00<?, ?it/s]"
      ]
     },
     "metadata": {},
     "output_type": "display_data"
    },
    {
     "data": {
      "application/vnd.jupyter.widget-view+json": {
       "model_id": "b0c61e0cb4294fefb3020d03def8ed62",
       "version_major": 2,
       "version_minor": 0
      },
      "text/plain": [
       "  0%|          | 0/10 [00:00<?, ?it/s]"
      ]
     },
     "metadata": {},
     "output_type": "display_data"
    }
   ],
   "source": [
    "import pandas as pd\n",
    "from os import scandir, rename\n",
    "from os.path import join\n",
    "from tqdm.notebook import tqdm\n",
    "from IPython.display import display\n",
    "dataset = \"scsyst\"\n",
    "\n",
    "for split in ['val_train','test']: # Find all final epoch results CSVs\n",
    "    exps = []\n",
    "    for f in scandir(dataset):\n",
    "        for f1 in scandir(f.path):\n",
    "            #if \"jto\" in f1.path:\n",
    "                exps.append(join(f1.path,f\"{split}.csv\"))\n",
    "    results  = pd.DataFrame()\n",
    "    # Create \n",
    "    for f in tqdm(exps):\n",
    "        csv = pd.read_csv(f)\n",
    "        method = f.split(\"/\")[1]\n",
    "        data = f.split(\"/\")[2]\n",
    "        hidden_dim = data.split(\"_\")[0]\n",
    "        seed = data.split(\"_\")[1]  \n",
    "        #print(f,method,corr)\n",
    "        csv['method'] = method\n",
    "        csv['hidden_dim'] = hidden_dim\n",
    "        csv['seed'] = seed\n",
    "\n",
    "        results = pd.concat([results, csv])\n",
    "        #print(results.columns)\n",
    "    results.to_csv(f'{dataset}_{split}.csv', index=False)"
   ]
  },
  {
   "cell_type": "code",
   "execution_count": 3,
   "id": "ff59d9e5-f2d3-4c61-b607-e9dd15502545",
   "metadata": {},
   "outputs": [
    {
     "name": "stdout",
     "output_type": "stream",
     "text": [
      "/media/alain/Data/Tesis/scsyst\n"
     ]
    }
   ],
   "source": [
    "!pwd"
   ]
  },
  {
   "cell_type": "code",
   "execution_count": 5,
   "id": "d6176ada-99df-4d09-95a3-f3ec2174f4ee",
   "metadata": {},
   "outputs": [
    {
     "name": "stdout",
     "output_type": "stream",
     "text": [
      "args.py\t\t\t\t\t\t\t\t models.py\n",
      "circle_[0.\\ \\ \\ \\ \\ \\ \\ \\ \\ 0.\\ \\ \\ \\ \\ \\ \\ \\ \\ 0.33333334].png  __pycache__\n",
      "circle_[[0.33333334\\ 0.33333334\\ 0.6666667\\ ]].png\t\t results\n",
      "circle_[[0.6666667\\ 0.\\ \\ \\ \\ \\ \\ \\ \\ 1.\\ \\ \\ \\ \\ \\ \\ ]].png\t run_expt.py\n",
      "Compile_Results.ipynb\t\t\t\t\t\t SCSyst.ipynb\n",
      "datasets.py\t\t\t\t\t\t\t train.py\n",
      "feats\t\t\t\t\t\t\t\t utils.py\n",
      "generate_dataset.ipynb\n"
     ]
    }
   ],
   "source": [
    "!dir"
   ]
  },
  {
   "cell_type": "code",
   "execution_count": 6,
   "id": "6c00513a-2e80-4f10-9ec9-c01ca4aacdac",
   "metadata": {},
   "outputs": [
    {
     "data": {
      "text/html": [
       "<div>\n",
       "<style scoped>\n",
       "    .dataframe tbody tr th:only-of-type {\n",
       "        vertical-align: middle;\n",
       "    }\n",
       "\n",
       "    .dataframe tbody tr th {\n",
       "        vertical-align: top;\n",
       "    }\n",
       "\n",
       "    .dataframe thead th {\n",
       "        text-align: right;\n",
       "    }\n",
       "</style>\n",
       "<table border=\"1\" class=\"dataframe\">\n",
       "  <thead>\n",
       "    <tr style=\"text-align: right;\">\n",
       "      <th></th>\n",
       "      <th>loss</th>\n",
       "      <th>acc</th>\n",
       "      <th>epoch</th>\n",
       "      <th>method</th>\n",
       "      <th>hidden_dim</th>\n",
       "      <th>seed</th>\n",
       "    </tr>\n",
       "  </thead>\n",
       "  <tbody>\n",
       "    <tr>\n",
       "      <th>0</th>\n",
       "      <td>76.033211</td>\n",
       "      <td>0.000000</td>\n",
       "      <td>1</td>\n",
       "      <td>erm</td>\n",
       "      <td>100</td>\n",
       "      <td>939042955</td>\n",
       "    </tr>\n",
       "    <tr>\n",
       "      <th>1</th>\n",
       "      <td>75.647766</td>\n",
       "      <td>0.000000</td>\n",
       "      <td>2</td>\n",
       "      <td>erm</td>\n",
       "      <td>100</td>\n",
       "      <td>939042955</td>\n",
       "    </tr>\n",
       "    <tr>\n",
       "      <th>2</th>\n",
       "      <td>75.259392</td>\n",
       "      <td>0.000000</td>\n",
       "      <td>3</td>\n",
       "      <td>erm</td>\n",
       "      <td>100</td>\n",
       "      <td>939042955</td>\n",
       "    </tr>\n",
       "    <tr>\n",
       "      <th>3</th>\n",
       "      <td>74.869286</td>\n",
       "      <td>0.000000</td>\n",
       "      <td>4</td>\n",
       "      <td>erm</td>\n",
       "      <td>100</td>\n",
       "      <td>939042955</td>\n",
       "    </tr>\n",
       "    <tr>\n",
       "      <th>4</th>\n",
       "      <td>74.475815</td>\n",
       "      <td>0.000000</td>\n",
       "      <td>5</td>\n",
       "      <td>erm</td>\n",
       "      <td>100</td>\n",
       "      <td>939042955</td>\n",
       "    </tr>\n",
       "    <tr>\n",
       "      <th>...</th>\n",
       "      <td>...</td>\n",
       "      <td>...</td>\n",
       "      <td>...</td>\n",
       "      <td>...</td>\n",
       "      <td>...</td>\n",
       "      <td>...</td>\n",
       "    </tr>\n",
       "    <tr>\n",
       "      <th>995</th>\n",
       "      <td>3.491383</td>\n",
       "      <td>30.000001</td>\n",
       "      <td>996</td>\n",
       "      <td>erm</td>\n",
       "      <td>100</td>\n",
       "      <td>127978094</td>\n",
       "    </tr>\n",
       "    <tr>\n",
       "      <th>996</th>\n",
       "      <td>3.488015</td>\n",
       "      <td>30.000001</td>\n",
       "      <td>997</td>\n",
       "      <td>erm</td>\n",
       "      <td>100</td>\n",
       "      <td>127978094</td>\n",
       "    </tr>\n",
       "    <tr>\n",
       "      <th>997</th>\n",
       "      <td>3.481783</td>\n",
       "      <td>30.000001</td>\n",
       "      <td>998</td>\n",
       "      <td>erm</td>\n",
       "      <td>100</td>\n",
       "      <td>127978094</td>\n",
       "    </tr>\n",
       "    <tr>\n",
       "      <th>998</th>\n",
       "      <td>3.479032</td>\n",
       "      <td>30.000001</td>\n",
       "      <td>999</td>\n",
       "      <td>erm</td>\n",
       "      <td>100</td>\n",
       "      <td>127978094</td>\n",
       "    </tr>\n",
       "    <tr>\n",
       "      <th>999</th>\n",
       "      <td>3.482708</td>\n",
       "      <td>30.000001</td>\n",
       "      <td>1000</td>\n",
       "      <td>erm</td>\n",
       "      <td>100</td>\n",
       "      <td>127978094</td>\n",
       "    </tr>\n",
       "  </tbody>\n",
       "</table>\n",
       "<p>10000 rows × 6 columns</p>\n",
       "</div>"
      ],
      "text/plain": [
       "          loss        acc  epoch method hidden_dim       seed\n",
       "0    76.033211   0.000000      1    erm        100  939042955\n",
       "1    75.647766   0.000000      2    erm        100  939042955\n",
       "2    75.259392   0.000000      3    erm        100  939042955\n",
       "3    74.869286   0.000000      4    erm        100  939042955\n",
       "4    74.475815   0.000000      5    erm        100  939042955\n",
       "..         ...        ...    ...    ...        ...        ...\n",
       "995   3.491383  30.000001    996    erm        100  127978094\n",
       "996   3.488015  30.000001    997    erm        100  127978094\n",
       "997   3.481783  30.000001    998    erm        100  127978094\n",
       "998   3.479032  30.000001    999    erm        100  127978094\n",
       "999   3.482708  30.000001   1000    erm        100  127978094\n",
       "\n",
       "[10000 rows x 6 columns]"
      ]
     },
     "execution_count": 6,
     "metadata": {},
     "output_type": "execute_result"
    }
   ],
   "source": [
    "results"
   ]
  },
  {
   "cell_type": "code",
   "execution_count": 12,
   "id": "08e82de0-9043-44d9-b70f-64a42d2e0016",
   "metadata": {},
   "outputs": [],
   "source": [
    "a = {50: 0.0, 625: 0.25, 75:0.5, 875: 0.75, 95:0.9}\n",
    "def format_perc(perc):\n",
    "    return '{:.2f}\\%'.format(perc)\n",
    "def format_float(perc):\n",
    "    return '{:.2f}'.format(perc)\n",
    "splits = ['train','val','test']\n",
    "\n",
    "'''\n",
    "- 'means' = overall results per method, get max value from each seed, \n",
    "then average results by seed. For results table.\n",
    "- 'all' = raw results from csvs\n",
    "- 'seed' = best result for seed\n",
    "- 'epoch' = results averaged by seed at the epoch level. For plotting.\n",
    "'''\n",
    "def create_results_table(dataset, split, metric=\"worst_acc\"):\n",
    "    results = pd.read_csv(f'{dataset}_{split}.csv')\n",
    "    epoch_df = results.groupby(['method',\"epoch\"]).agg(\n",
    "        {'loss': 'mean','acc': 'mean'}\n",
    "    ).reset_index()\n",
    "    grouped_df = results.groupby(['method','seed']).agg(\n",
    "        {'loss': 'min', 'acc': 'max'}\n",
    "    ).reset_index()\n",
    "    means_df = grouped_df.groupby(['method']).agg(\n",
    "        {'loss':'mean','acc':'mean'}\n",
    "    ).reset_index()\n",
    "    for m in ['loss','acc']:\n",
    "        means_df[m] = means_df[m]\n",
    "        means_df[f'{m}_std'] = grouped_df.groupby(['method'])[m].std().reset_index()[m]\n",
    "        means_df['count'] = grouped_df.groupby(['method'])[m].count().reset_index()[m]\n",
    "        means_df[m] = means_df[m].apply(format_perc)\n",
    "        means_df[f'{m}_std'] = means_df[f'{m}_std'].apply(format_float)\n",
    "        means_df[f'final_{m}'] = (means_df[m]).astype(str) + \" $\\pm$ \" + means_df[f'{m}_std'].astype(str) + \" (\" + means_df['count'].astype(str) + \")\"\n",
    "    \n",
    "    return {'means': means_df, 'seed': grouped_df, 'all': results, 'epoch': epoch_df}\n",
    "\n",
    "def create_final_table(df, metric=\"avg_acc\"):\n",
    "    final_table = df.pivot(index='method',\n",
    "                           columns='corr',\n",
    "                           values=([f\"final_{metric}\"])).reset_index()\n",
    "\n",
    "    return final_table"
   ]
  },
  {
   "cell_type": "code",
   "execution_count": 20,
   "id": "92499f94-05eb-4251-91b9-01c9abe8833e",
   "metadata": {},
   "outputs": [],
   "source": [
    "r = create_results_table(\"scsyst\",\"test\")['means']"
   ]
  },
  {
   "cell_type": "code",
   "execution_count": 21,
   "id": "bbd607a1-e0c0-431e-84ed-7465a82eaf0d",
   "metadata": {},
   "outputs": [
    {
     "ename": "KeyError",
     "evalue": "'corr'",
     "output_type": "error",
     "traceback": [
      "\u001b[0;31m---------------------------------------------------------------------------\u001b[0m",
      "\u001b[0;31mKeyError\u001b[0m                                  Traceback (most recent call last)",
      "File \u001b[0;32m/media/alain/Data/Tesis/torch/lib/python3.10/site-packages/pandas/core/indexes/base.py:3790\u001b[0m, in \u001b[0;36mIndex.get_loc\u001b[0;34m(self, key)\u001b[0m\n\u001b[1;32m   3789\u001b[0m \u001b[38;5;28;01mtry\u001b[39;00m:\n\u001b[0;32m-> 3790\u001b[0m     \u001b[38;5;28;01mreturn\u001b[39;00m \u001b[38;5;28;43mself\u001b[39;49m\u001b[38;5;241;43m.\u001b[39;49m\u001b[43m_engine\u001b[49m\u001b[38;5;241;43m.\u001b[39;49m\u001b[43mget_loc\u001b[49m\u001b[43m(\u001b[49m\u001b[43mcasted_key\u001b[49m\u001b[43m)\u001b[49m\n\u001b[1;32m   3791\u001b[0m \u001b[38;5;28;01mexcept\u001b[39;00m \u001b[38;5;167;01mKeyError\u001b[39;00m \u001b[38;5;28;01mas\u001b[39;00m err:\n",
      "File \u001b[0;32mindex.pyx:152\u001b[0m, in \u001b[0;36mpandas._libs.index.IndexEngine.get_loc\u001b[0;34m()\u001b[0m\n",
      "File \u001b[0;32mindex.pyx:181\u001b[0m, in \u001b[0;36mpandas._libs.index.IndexEngine.get_loc\u001b[0;34m()\u001b[0m\n",
      "File \u001b[0;32mpandas/_libs/hashtable_class_helper.pxi:7080\u001b[0m, in \u001b[0;36mpandas._libs.hashtable.PyObjectHashTable.get_item\u001b[0;34m()\u001b[0m\n",
      "File \u001b[0;32mpandas/_libs/hashtable_class_helper.pxi:7088\u001b[0m, in \u001b[0;36mpandas._libs.hashtable.PyObjectHashTable.get_item\u001b[0;34m()\u001b[0m\n",
      "\u001b[0;31mKeyError\u001b[0m: 'corr'",
      "\nThe above exception was the direct cause of the following exception:\n",
      "\u001b[0;31mKeyError\u001b[0m                                  Traceback (most recent call last)",
      "Cell \u001b[0;32mIn[21], line 1\u001b[0m\n\u001b[0;32m----> 1\u001b[0m \u001b[43mcreate_final_table\u001b[49m\u001b[43m(\u001b[49m\u001b[43mr\u001b[49m\u001b[43m,\u001b[49m\u001b[43m \u001b[49m\u001b[43mmetric\u001b[49m\u001b[38;5;241;43m=\u001b[39;49m\u001b[38;5;124;43m\"\u001b[39;49m\u001b[38;5;124;43macc\u001b[39;49m\u001b[38;5;124;43m\"\u001b[39;49m\u001b[43m)\u001b[49m\n",
      "Cell \u001b[0;32mIn[12], line 37\u001b[0m, in \u001b[0;36mcreate_final_table\u001b[0;34m(df, metric)\u001b[0m\n\u001b[1;32m     36\u001b[0m \u001b[38;5;28;01mdef\u001b[39;00m \u001b[38;5;21mcreate_final_table\u001b[39m(df, metric\u001b[38;5;241m=\u001b[39m\u001b[38;5;124m\"\u001b[39m\u001b[38;5;124mavg_acc\u001b[39m\u001b[38;5;124m\"\u001b[39m):\n\u001b[0;32m---> 37\u001b[0m     final_table \u001b[38;5;241m=\u001b[39m \u001b[43mdf\u001b[49m\u001b[38;5;241;43m.\u001b[39;49m\u001b[43mpivot\u001b[49m\u001b[43m(\u001b[49m\u001b[43mindex\u001b[49m\u001b[38;5;241;43m=\u001b[39;49m\u001b[38;5;124;43m'\u001b[39;49m\u001b[38;5;124;43mmethod\u001b[39;49m\u001b[38;5;124;43m'\u001b[39;49m\u001b[43m,\u001b[49m\n\u001b[1;32m     38\u001b[0m \u001b[43m                           \u001b[49m\u001b[43mcolumns\u001b[49m\u001b[38;5;241;43m=\u001b[39;49m\u001b[38;5;124;43m'\u001b[39;49m\u001b[38;5;124;43mcorr\u001b[39;49m\u001b[38;5;124;43m'\u001b[39;49m\u001b[43m,\u001b[49m\n\u001b[1;32m     39\u001b[0m \u001b[43m                           \u001b[49m\u001b[43mvalues\u001b[49m\u001b[38;5;241;43m=\u001b[39;49m\u001b[43m(\u001b[49m\u001b[43m[\u001b[49m\u001b[38;5;124;43mf\u001b[39;49m\u001b[38;5;124;43m\"\u001b[39;49m\u001b[38;5;124;43mfinal_\u001b[39;49m\u001b[38;5;132;43;01m{\u001b[39;49;00m\u001b[43mmetric\u001b[49m\u001b[38;5;132;43;01m}\u001b[39;49;00m\u001b[38;5;124;43m\"\u001b[39;49m\u001b[43m]\u001b[49m\u001b[43m)\u001b[49m\u001b[43m)\u001b[49m\u001b[38;5;241m.\u001b[39mreset_index()\n\u001b[1;32m     41\u001b[0m     \u001b[38;5;28;01mreturn\u001b[39;00m final_table\n",
      "File \u001b[0;32m/media/alain/Data/Tesis/torch/lib/python3.10/site-packages/pandas/core/frame.py:9028\u001b[0m, in \u001b[0;36mDataFrame.pivot\u001b[0;34m(self, columns, index, values)\u001b[0m\n\u001b[1;32m   9021\u001b[0m \u001b[38;5;129m@Substitution\u001b[39m(\u001b[38;5;124m\"\u001b[39m\u001b[38;5;124m\"\u001b[39m)\n\u001b[1;32m   9022\u001b[0m \u001b[38;5;129m@Appender\u001b[39m(_shared_docs[\u001b[38;5;124m\"\u001b[39m\u001b[38;5;124mpivot\u001b[39m\u001b[38;5;124m\"\u001b[39m])\n\u001b[1;32m   9023\u001b[0m \u001b[38;5;28;01mdef\u001b[39;00m \u001b[38;5;21mpivot\u001b[39m(\n\u001b[1;32m   9024\u001b[0m     \u001b[38;5;28mself\u001b[39m, \u001b[38;5;241m*\u001b[39m, columns, index\u001b[38;5;241m=\u001b[39mlib\u001b[38;5;241m.\u001b[39mno_default, values\u001b[38;5;241m=\u001b[39mlib\u001b[38;5;241m.\u001b[39mno_default\n\u001b[1;32m   9025\u001b[0m ) \u001b[38;5;241m-\u001b[39m\u001b[38;5;241m>\u001b[39m DataFrame:\n\u001b[1;32m   9026\u001b[0m     \u001b[38;5;28;01mfrom\u001b[39;00m \u001b[38;5;21;01mpandas\u001b[39;00m\u001b[38;5;21;01m.\u001b[39;00m\u001b[38;5;21;01mcore\u001b[39;00m\u001b[38;5;21;01m.\u001b[39;00m\u001b[38;5;21;01mreshape\u001b[39;00m\u001b[38;5;21;01m.\u001b[39;00m\u001b[38;5;21;01mpivot\u001b[39;00m \u001b[38;5;28;01mimport\u001b[39;00m pivot\n\u001b[0;32m-> 9028\u001b[0m     \u001b[38;5;28;01mreturn\u001b[39;00m \u001b[43mpivot\u001b[49m\u001b[43m(\u001b[49m\u001b[38;5;28;43mself\u001b[39;49m\u001b[43m,\u001b[49m\u001b[43m \u001b[49m\u001b[43mindex\u001b[49m\u001b[38;5;241;43m=\u001b[39;49m\u001b[43mindex\u001b[49m\u001b[43m,\u001b[49m\u001b[43m \u001b[49m\u001b[43mcolumns\u001b[49m\u001b[38;5;241;43m=\u001b[39;49m\u001b[43mcolumns\u001b[49m\u001b[43m,\u001b[49m\u001b[43m \u001b[49m\u001b[43mvalues\u001b[49m\u001b[38;5;241;43m=\u001b[39;49m\u001b[43mvalues\u001b[49m\u001b[43m)\u001b[49m\n",
      "File \u001b[0;32m/media/alain/Data/Tesis/torch/lib/python3.10/site-packages/pandas/core/reshape/pivot.py:538\u001b[0m, in \u001b[0;36mpivot\u001b[0;34m(data, columns, index, values)\u001b[0m\n\u001b[1;32m    535\u001b[0m \u001b[38;5;28;01melse\u001b[39;00m:\n\u001b[1;32m    536\u001b[0m     index_list \u001b[38;5;241m=\u001b[39m [data[idx] \u001b[38;5;28;01mfor\u001b[39;00m idx \u001b[38;5;129;01min\u001b[39;00m com\u001b[38;5;241m.\u001b[39mconvert_to_list_like(index)]\n\u001b[0;32m--> 538\u001b[0m data_columns \u001b[38;5;241m=\u001b[39m [data[col] \u001b[38;5;28;01mfor\u001b[39;00m col \u001b[38;5;129;01min\u001b[39;00m columns_listlike]\n\u001b[1;32m    539\u001b[0m index_list\u001b[38;5;241m.\u001b[39mextend(data_columns)\n\u001b[1;32m    540\u001b[0m multiindex \u001b[38;5;241m=\u001b[39m MultiIndex\u001b[38;5;241m.\u001b[39mfrom_arrays(index_list)\n",
      "File \u001b[0;32m/media/alain/Data/Tesis/torch/lib/python3.10/site-packages/pandas/core/reshape/pivot.py:538\u001b[0m, in \u001b[0;36m<listcomp>\u001b[0;34m(.0)\u001b[0m\n\u001b[1;32m    535\u001b[0m \u001b[38;5;28;01melse\u001b[39;00m:\n\u001b[1;32m    536\u001b[0m     index_list \u001b[38;5;241m=\u001b[39m [data[idx] \u001b[38;5;28;01mfor\u001b[39;00m idx \u001b[38;5;129;01min\u001b[39;00m com\u001b[38;5;241m.\u001b[39mconvert_to_list_like(index)]\n\u001b[0;32m--> 538\u001b[0m data_columns \u001b[38;5;241m=\u001b[39m [\u001b[43mdata\u001b[49m\u001b[43m[\u001b[49m\u001b[43mcol\u001b[49m\u001b[43m]\u001b[49m \u001b[38;5;28;01mfor\u001b[39;00m col \u001b[38;5;129;01min\u001b[39;00m columns_listlike]\n\u001b[1;32m    539\u001b[0m index_list\u001b[38;5;241m.\u001b[39mextend(data_columns)\n\u001b[1;32m    540\u001b[0m multiindex \u001b[38;5;241m=\u001b[39m MultiIndex\u001b[38;5;241m.\u001b[39mfrom_arrays(index_list)\n",
      "File \u001b[0;32m/media/alain/Data/Tesis/torch/lib/python3.10/site-packages/pandas/core/frame.py:3896\u001b[0m, in \u001b[0;36mDataFrame.__getitem__\u001b[0;34m(self, key)\u001b[0m\n\u001b[1;32m   3894\u001b[0m \u001b[38;5;28;01mif\u001b[39;00m \u001b[38;5;28mself\u001b[39m\u001b[38;5;241m.\u001b[39mcolumns\u001b[38;5;241m.\u001b[39mnlevels \u001b[38;5;241m>\u001b[39m \u001b[38;5;241m1\u001b[39m:\n\u001b[1;32m   3895\u001b[0m     \u001b[38;5;28;01mreturn\u001b[39;00m \u001b[38;5;28mself\u001b[39m\u001b[38;5;241m.\u001b[39m_getitem_multilevel(key)\n\u001b[0;32m-> 3896\u001b[0m indexer \u001b[38;5;241m=\u001b[39m \u001b[38;5;28;43mself\u001b[39;49m\u001b[38;5;241;43m.\u001b[39;49m\u001b[43mcolumns\u001b[49m\u001b[38;5;241;43m.\u001b[39;49m\u001b[43mget_loc\u001b[49m\u001b[43m(\u001b[49m\u001b[43mkey\u001b[49m\u001b[43m)\u001b[49m\n\u001b[1;32m   3897\u001b[0m \u001b[38;5;28;01mif\u001b[39;00m is_integer(indexer):\n\u001b[1;32m   3898\u001b[0m     indexer \u001b[38;5;241m=\u001b[39m [indexer]\n",
      "File \u001b[0;32m/media/alain/Data/Tesis/torch/lib/python3.10/site-packages/pandas/core/indexes/base.py:3797\u001b[0m, in \u001b[0;36mIndex.get_loc\u001b[0;34m(self, key)\u001b[0m\n\u001b[1;32m   3792\u001b[0m     \u001b[38;5;28;01mif\u001b[39;00m \u001b[38;5;28misinstance\u001b[39m(casted_key, \u001b[38;5;28mslice\u001b[39m) \u001b[38;5;129;01mor\u001b[39;00m (\n\u001b[1;32m   3793\u001b[0m         \u001b[38;5;28misinstance\u001b[39m(casted_key, abc\u001b[38;5;241m.\u001b[39mIterable)\n\u001b[1;32m   3794\u001b[0m         \u001b[38;5;129;01mand\u001b[39;00m \u001b[38;5;28many\u001b[39m(\u001b[38;5;28misinstance\u001b[39m(x, \u001b[38;5;28mslice\u001b[39m) \u001b[38;5;28;01mfor\u001b[39;00m x \u001b[38;5;129;01min\u001b[39;00m casted_key)\n\u001b[1;32m   3795\u001b[0m     ):\n\u001b[1;32m   3796\u001b[0m         \u001b[38;5;28;01mraise\u001b[39;00m InvalidIndexError(key)\n\u001b[0;32m-> 3797\u001b[0m     \u001b[38;5;28;01mraise\u001b[39;00m \u001b[38;5;167;01mKeyError\u001b[39;00m(key) \u001b[38;5;28;01mfrom\u001b[39;00m \u001b[38;5;21;01merr\u001b[39;00m\n\u001b[1;32m   3798\u001b[0m \u001b[38;5;28;01mexcept\u001b[39;00m \u001b[38;5;167;01mTypeError\u001b[39;00m:\n\u001b[1;32m   3799\u001b[0m     \u001b[38;5;66;03m# If we have a listlike key, _check_indexing_error will raise\u001b[39;00m\n\u001b[1;32m   3800\u001b[0m     \u001b[38;5;66;03m#  InvalidIndexError. Otherwise we fall through and re-raise\u001b[39;00m\n\u001b[1;32m   3801\u001b[0m     \u001b[38;5;66;03m#  the TypeError.\u001b[39;00m\n\u001b[1;32m   3802\u001b[0m     \u001b[38;5;28mself\u001b[39m\u001b[38;5;241m.\u001b[39m_check_indexing_error(key)\n",
      "\u001b[0;31mKeyError\u001b[0m: 'corr'"
     ]
    }
   ],
   "source": [
    "create_final_table(r, metric=\"acc\")"
   ]
  },
  {
   "cell_type": "code",
   "execution_count": null,
   "id": "f0aa0d73-b355-45ae-9081-3cf08d5b1eab",
   "metadata": {},
   "outputs": [],
   "source": []
  }
 ],
 "metadata": {
  "kernelspec": {
   "display_name": "Python 3 (ipykernel)",
   "language": "python",
   "name": "python3"
  },
  "language_info": {
   "codemirror_mode": {
    "name": "ipython",
    "version": 3
   },
   "file_extension": ".py",
   "mimetype": "text/x-python",
   "name": "python",
   "nbconvert_exporter": "python",
   "pygments_lexer": "ipython3",
   "version": "3.10.12"
  }
 },
 "nbformat": 4,
 "nbformat_minor": 5
}
